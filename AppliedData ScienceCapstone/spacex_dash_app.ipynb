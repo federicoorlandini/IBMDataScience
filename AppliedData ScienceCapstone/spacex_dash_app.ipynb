{
 "cells": [
  {
   "cell_type": "code",
   "execution_count": 2,
   "metadata": {},
   "outputs": [
    {
     "name": "stdout",
     "output_type": "stream",
     "text": [
      "Requirement already satisfied: dash==1.19.0 in c:\\python\\python3_8_3\\lib\\site-packages (1.19.0)\n",
      "Requirement already satisfied: Flask>=1.0.4 in c:\\python\\python3_8_3\\lib\\site-packages (from dash==1.19.0) (3.0.3)\n",
      "Requirement already satisfied: flask-compress in c:\\python\\python3_8_3\\lib\\site-packages (from dash==1.19.0) (1.15)\n",
      "Requirement already satisfied: plotly in c:\\python\\python3_8_3\\lib\\site-packages (from dash==1.19.0) (5.22.0)\n",
      "Requirement already satisfied: dash-renderer==1.9.0 in c:\\python\\python3_8_3\\lib\\site-packages (from dash==1.19.0) (1.9.0)\n",
      "Requirement already satisfied: dash-core-components==1.15.0 in c:\\python\\python3_8_3\\lib\\site-packages (from dash==1.19.0) (1.15.0)\n",
      "Requirement already satisfied: dash-html-components==1.1.2 in c:\\python\\python3_8_3\\lib\\site-packages (from dash==1.19.0) (1.1.2)\n",
      "Requirement already satisfied: dash-table==4.11.2 in c:\\python\\python3_8_3\\lib\\site-packages (from dash==1.19.0) (4.11.2)\n",
      "Requirement already satisfied: future in c:\\python\\python3_8_3\\lib\\site-packages (from dash==1.19.0) (1.0.0)\n",
      "Requirement already satisfied: Werkzeug>=3.0.0 in c:\\python\\python3_8_3\\lib\\site-packages (from Flask>=1.0.4->dash==1.19.0) (3.0.2)\n",
      "Requirement already satisfied: Jinja2>=3.1.2 in c:\\python\\python3_8_3\\lib\\site-packages (from Flask>=1.0.4->dash==1.19.0) (3.1.2)\n",
      "Requirement already satisfied: itsdangerous>=2.1.2 in c:\\python\\python3_8_3\\lib\\site-packages (from Flask>=1.0.4->dash==1.19.0) (2.2.0)\n",
      "Requirement already satisfied: click>=8.1.3 in c:\\python\\python3_8_3\\lib\\site-packages (from Flask>=1.0.4->dash==1.19.0) (8.1.7)\n",
      "Requirement already satisfied: blinker>=1.6.2 in c:\\python\\python3_8_3\\lib\\site-packages (from Flask>=1.0.4->dash==1.19.0) (1.8.1)\n",
      "Requirement already satisfied: importlib-metadata>=3.6.0 in c:\\python\\python3_8_3\\lib\\site-packages (from Flask>=1.0.4->dash==1.19.0) (6.9.0)\n",
      "Requirement already satisfied: brotli in c:\\python\\python3_8_3\\lib\\site-packages (from flask-compress->dash==1.19.0) (1.1.0)\n",
      "Requirement already satisfied: zstandard in c:\\python\\python3_8_3\\lib\\site-packages (from flask-compress->dash==1.19.0) (0.22.0)\n",
      "Requirement already satisfied: tenacity>=6.2.0 in c:\\python\\python3_8_3\\lib\\site-packages (from plotly->dash==1.19.0) (8.2.3)\n",
      "Requirement already satisfied: packaging in c:\\python\\python3_8_3\\lib\\site-packages (from plotly->dash==1.19.0) (23.2)\n",
      "Requirement already satisfied: colorama in c:\\python\\python3_8_3\\lib\\site-packages (from click>=8.1.3->Flask>=1.0.4->dash==1.19.0) (0.4.6)\n",
      "Requirement already satisfied: zipp>=0.5 in c:\\python\\python3_8_3\\lib\\site-packages (from importlib-metadata>=3.6.0->Flask>=1.0.4->dash==1.19.0) (3.17.0)\n",
      "Requirement already satisfied: MarkupSafe>=2.0 in c:\\python\\python3_8_3\\lib\\site-packages (from Jinja2>=3.1.2->Flask>=1.0.4->dash==1.19.0) (2.1.3)\n"
     ]
    }
   ],
   "source": [
    "!pip install dash==1.19.0"
   ]
  },
  {
   "cell_type": "code",
   "execution_count": 6,
   "metadata": {},
   "outputs": [
    {
     "name": "stdout",
     "output_type": "stream",
     "text": [
      "Requirement already satisfied: jupyter_dash in c:\\python\\python3_8_3\\lib\\site-packages (0.4.2)\n",
      "Requirement already satisfied: dash in c:\\python\\python3_8_3\\lib\\site-packages (from jupyter_dash) (1.19.0)\n",
      "Requirement already satisfied: requests in c:\\python\\python3_8_3\\lib\\site-packages (from jupyter_dash) (2.31.0)\n",
      "Requirement already satisfied: flask in c:\\python\\python3_8_3\\lib\\site-packages (from jupyter_dash) (3.0.3)\n",
      "Requirement already satisfied: retrying in c:\\python\\python3_8_3\\lib\\site-packages (from jupyter_dash) (1.3.4)\n",
      "Requirement already satisfied: ipython in c:\\python\\python3_8_3\\lib\\site-packages (from jupyter_dash) (8.12.3)\n",
      "Requirement already satisfied: ipykernel in c:\\python\\python3_8_3\\lib\\site-packages (from jupyter_dash) (6.27.1)\n",
      "Requirement already satisfied: ansi2html in c:\\python\\python3_8_3\\lib\\site-packages (from jupyter_dash) (1.9.1)\n",
      "Requirement already satisfied: nest-asyncio in c:\\python\\python3_8_3\\lib\\site-packages (from jupyter_dash) (1.5.8)\n",
      "Requirement already satisfied: flask-compress in c:\\python\\python3_8_3\\lib\\site-packages (from dash->jupyter_dash) (1.15)\n",
      "Requirement already satisfied: plotly in c:\\python\\python3_8_3\\lib\\site-packages (from dash->jupyter_dash) (5.22.0)\n",
      "Requirement already satisfied: dash-renderer==1.9.0 in c:\\python\\python3_8_3\\lib\\site-packages (from dash->jupyter_dash) (1.9.0)\n",
      "Requirement already satisfied: dash-core-components==1.15.0 in c:\\python\\python3_8_3\\lib\\site-packages (from dash->jupyter_dash) (1.15.0)\n",
      "Requirement already satisfied: dash-html-components==1.1.2 in c:\\python\\python3_8_3\\lib\\site-packages (from dash->jupyter_dash) (1.1.2)\n",
      "Requirement already satisfied: dash-table==4.11.2 in c:\\python\\python3_8_3\\lib\\site-packages (from dash->jupyter_dash) (4.11.2)\n",
      "Requirement already satisfied: future in c:\\python\\python3_8_3\\lib\\site-packages (from dash->jupyter_dash) (1.0.0)\n",
      "Collecting Werkzeug>=3.0.0 (from flask->jupyter_dash)\n",
      "  Using cached werkzeug-3.0.2-py3-none-any.whl.metadata (4.1 kB)\n",
      "Requirement already satisfied: Jinja2>=3.1.2 in c:\\python\\python3_8_3\\lib\\site-packages (from flask->jupyter_dash) (3.1.2)\n",
      "Requirement already satisfied: itsdangerous>=2.1.2 in c:\\python\\python3_8_3\\lib\\site-packages (from flask->jupyter_dash) (2.2.0)\n",
      "Requirement already satisfied: click>=8.1.3 in c:\\python\\python3_8_3\\lib\\site-packages (from flask->jupyter_dash) (8.1.7)\n",
      "Requirement already satisfied: blinker>=1.6.2 in c:\\python\\python3_8_3\\lib\\site-packages (from flask->jupyter_dash) (1.8.1)\n",
      "Requirement already satisfied: importlib-metadata>=3.6.0 in c:\\python\\python3_8_3\\lib\\site-packages (from flask->jupyter_dash) (6.9.0)\n",
      "Requirement already satisfied: comm>=0.1.1 in c:\\python\\python3_8_3\\lib\\site-packages (from ipykernel->jupyter_dash) (0.2.0)\n",
      "Requirement already satisfied: debugpy>=1.6.5 in c:\\python\\python3_8_3\\lib\\site-packages (from ipykernel->jupyter_dash) (1.8.0)\n",
      "Requirement already satisfied: jupyter-client>=6.1.12 in c:\\python\\python3_8_3\\lib\\site-packages (from ipykernel->jupyter_dash) (8.6.0)\n",
      "Requirement already satisfied: jupyter-core!=5.0.*,>=4.12 in c:\\python\\python3_8_3\\lib\\site-packages (from ipykernel->jupyter_dash) (5.5.0)\n",
      "Requirement already satisfied: matplotlib-inline>=0.1 in c:\\python\\python3_8_3\\lib\\site-packages (from ipykernel->jupyter_dash) (0.1.6)\n",
      "Requirement already satisfied: packaging in c:\\python\\python3_8_3\\lib\\site-packages (from ipykernel->jupyter_dash) (23.2)\n",
      "Requirement already satisfied: psutil in c:\\python\\python3_8_3\\lib\\site-packages (from ipykernel->jupyter_dash) (5.9.6)\n",
      "Requirement already satisfied: pyzmq>=20 in c:\\python\\python3_8_3\\lib\\site-packages (from ipykernel->jupyter_dash) (25.1.1)\n",
      "Requirement already satisfied: tornado>=6.1 in c:\\python\\python3_8_3\\lib\\site-packages (from ipykernel->jupyter_dash) (6.4)\n",
      "Requirement already satisfied: traitlets>=5.4.0 in c:\\python\\python3_8_3\\lib\\site-packages (from ipykernel->jupyter_dash) (5.14.0)\n",
      "Requirement already satisfied: backcall in c:\\python\\python3_8_3\\lib\\site-packages (from ipython->jupyter_dash) (0.2.0)\n",
      "Requirement already satisfied: decorator in c:\\python\\python3_8_3\\lib\\site-packages (from ipython->jupyter_dash) (5.1.1)\n",
      "Requirement already satisfied: jedi>=0.16 in c:\\python\\python3_8_3\\lib\\site-packages (from ipython->jupyter_dash) (0.19.1)\n",
      "Requirement already satisfied: pickleshare in c:\\python\\python3_8_3\\lib\\site-packages (from ipython->jupyter_dash) (0.7.5)\n",
      "Requirement already satisfied: prompt-toolkit!=3.0.37,<3.1.0,>=3.0.30 in c:\\python\\python3_8_3\\lib\\site-packages (from ipython->jupyter_dash) (3.0.41)\n",
      "Requirement already satisfied: pygments>=2.4.0 in c:\\python\\python3_8_3\\lib\\site-packages (from ipython->jupyter_dash) (2.17.2)\n",
      "Requirement already satisfied: stack-data in c:\\python\\python3_8_3\\lib\\site-packages (from ipython->jupyter_dash) (0.6.3)\n",
      "Requirement already satisfied: typing-extensions in c:\\python\\python3_8_3\\lib\\site-packages (from ipython->jupyter_dash) (4.8.0)\n",
      "Requirement already satisfied: colorama in c:\\python\\python3_8_3\\lib\\site-packages (from ipython->jupyter_dash) (0.4.6)\n",
      "Requirement already satisfied: charset-normalizer<4,>=2 in c:\\python\\python3_8_3\\lib\\site-packages (from requests->jupyter_dash) (3.3.2)\n",
      "Requirement already satisfied: idna<4,>=2.5 in c:\\python\\python3_8_3\\lib\\site-packages (from requests->jupyter_dash) (3.6)\n",
      "Requirement already satisfied: urllib3<3,>=1.21.1 in c:\\python\\python3_8_3\\lib\\site-packages (from requests->jupyter_dash) (2.1.0)\n",
      "Requirement already satisfied: certifi>=2017.4.17 in c:\\python\\python3_8_3\\lib\\site-packages (from requests->jupyter_dash) (2023.11.17)\n",
      "Requirement already satisfied: six>=1.7.0 in c:\\python\\python3_8_3\\lib\\site-packages (from retrying->jupyter_dash) (1.16.0)\n",
      "Requirement already satisfied: zipp>=0.5 in c:\\python\\python3_8_3\\lib\\site-packages (from importlib-metadata>=3.6.0->flask->jupyter_dash) (3.17.0)\n",
      "Requirement already satisfied: parso<0.9.0,>=0.8.3 in c:\\python\\python3_8_3\\lib\\site-packages (from jedi>=0.16->ipython->jupyter_dash) (0.8.3)\n",
      "Requirement already satisfied: MarkupSafe>=2.0 in c:\\python\\python3_8_3\\lib\\site-packages (from Jinja2>=3.1.2->flask->jupyter_dash) (2.1.3)\n",
      "Requirement already satisfied: python-dateutil>=2.8.2 in c:\\python\\python3_8_3\\lib\\site-packages (from jupyter-client>=6.1.12->ipykernel->jupyter_dash) (2.8.2)\n",
      "Requirement already satisfied: platformdirs>=2.5 in c:\\python\\python3_8_3\\lib\\site-packages (from jupyter-core!=5.0.*,>=4.12->ipykernel->jupyter_dash) (4.0.0)\n",
      "Requirement already satisfied: pywin32>=300 in c:\\python\\python3_8_3\\lib\\site-packages (from jupyter-core!=5.0.*,>=4.12->ipykernel->jupyter_dash) (306)\n",
      "Requirement already satisfied: wcwidth in c:\\python\\python3_8_3\\lib\\site-packages (from prompt-toolkit!=3.0.37,<3.1.0,>=3.0.30->ipython->jupyter_dash) (0.2.12)\n",
      "Requirement already satisfied: brotli in c:\\python\\python3_8_3\\lib\\site-packages (from flask-compress->dash->jupyter_dash) (1.1.0)\n",
      "Requirement already satisfied: zstandard in c:\\python\\python3_8_3\\lib\\site-packages (from flask-compress->dash->jupyter_dash) (0.22.0)\n",
      "Requirement already satisfied: tenacity>=6.2.0 in c:\\python\\python3_8_3\\lib\\site-packages (from plotly->dash->jupyter_dash) (8.2.3)\n",
      "Requirement already satisfied: executing>=1.2.0 in c:\\python\\python3_8_3\\lib\\site-packages (from stack-data->ipython->jupyter_dash) (2.0.1)\n",
      "Requirement already satisfied: asttokens>=2.1.0 in c:\\python\\python3_8_3\\lib\\site-packages (from stack-data->ipython->jupyter_dash) (2.4.1)\n",
      "Requirement already satisfied: pure-eval in c:\\python\\python3_8_3\\lib\\site-packages (from stack-data->ipython->jupyter_dash) (0.2.2)\n",
      "Using cached werkzeug-3.0.2-py3-none-any.whl (226 kB)\n",
      "Installing collected packages: Werkzeug\n",
      "Successfully installed Werkzeug-3.0.2\n"
     ]
    }
   ],
   "source": [
    "!pip install jupyter_dash "
   ]
  },
  {
   "cell_type": "code",
   "execution_count": 7,
   "metadata": {},
   "outputs": [
    {
     "name": "stdout",
     "output_type": "stream",
     "text": [
      "Requirement already satisfied: plotly in c:\\python\\python3_8_3\\lib\\site-packages (5.22.0)\n",
      "Requirement already satisfied: tenacity>=6.2.0 in c:\\python\\python3_8_3\\lib\\site-packages (from plotly) (8.2.3)\n",
      "Requirement already satisfied: packaging in c:\\python\\python3_8_3\\lib\\site-packages (from plotly) (23.2)\n"
     ]
    }
   ],
   "source": [
    "!pip install --upgrade plotly"
   ]
  },
  {
   "cell_type": "code",
   "execution_count": 10,
   "metadata": {},
   "outputs": [
    {
     "name": "stdout",
     "output_type": "stream",
     "text": [
      "Collecting Werkzeug==2.0.0\n",
      "  Downloading Werkzeug-2.0.0-py3-none-any.whl.metadata (4.4 kB)\n",
      "Downloading Werkzeug-2.0.0-py3-none-any.whl (288 kB)\n",
      "   ---------------------------------------- 0.0/288.1 kB ? eta -:--:--\n",
      "   ---------------------------------------- 288.1/288.1 kB 9.0 MB/s eta 0:00:00\n",
      "Installing collected packages: Werkzeug\n",
      "Successfully installed Werkzeug-2.0.0\n"
     ]
    },
    {
     "name": "stderr",
     "output_type": "stream",
     "text": [
      "ERROR: pip's dependency resolver does not currently take into account all the packages that are installed. This behaviour is the source of the following dependency conflicts.\n",
      "flask 3.0.3 requires Werkzeug>=3.0.0, but you have werkzeug 2.0.0 which is incompatible.\n"
     ]
    }
   ],
   "source": [
    "!pip install Werkzeug==2.0.0"
   ]
  },
  {
   "cell_type": "code",
   "execution_count": 9,
   "metadata": {},
   "outputs": [
    {
     "ename": "ImportError",
     "evalue": "cannot import name 'get_current_traceback' from 'werkzeug.debug.tbtools' (c:\\python\\python3_8_3\\lib\\site-packages\\werkzeug\\debug\\tbtools.py)",
     "output_type": "error",
     "traceback": [
      "\u001b[1;31m---------------------------------------------------------------------------\u001b[0m",
      "\u001b[1;31mImportError\u001b[0m                               Traceback (most recent call last)",
      "Cell \u001b[1;32mIn[9], line 2\u001b[0m\n\u001b[0;32m      1\u001b[0m \u001b[38;5;28;01mimport\u001b[39;00m \u001b[38;5;21;01mpandas\u001b[39;00m \u001b[38;5;28;01mas\u001b[39;00m \u001b[38;5;21;01mpd\u001b[39;00m\n\u001b[1;32m----> 2\u001b[0m \u001b[38;5;28;01mimport\u001b[39;00m \u001b[38;5;21;01mdash\u001b[39;00m\n\u001b[0;32m      3\u001b[0m \u001b[38;5;28;01mimport\u001b[39;00m \u001b[38;5;21;01mdash_html_components\u001b[39;00m \u001b[38;5;28;01mas\u001b[39;00m \u001b[38;5;21;01mhtml\u001b[39;00m\n\u001b[0;32m      4\u001b[0m \u001b[38;5;28;01mimport\u001b[39;00m \u001b[38;5;21;01mdash_core_components\u001b[39;00m \u001b[38;5;28;01mas\u001b[39;00m \u001b[38;5;21;01mdcc\u001b[39;00m\n",
      "File \u001b[1;32mc:\\python\\python3_8_3\\lib\\site-packages\\dash\\__init__.py:5\u001b[0m\n\u001b[0;32m      1\u001b[0m \u001b[38;5;66;03m# pylint: disable=C0413\u001b[39;00m\n\u001b[0;32m      2\u001b[0m \u001b[38;5;66;03m# __plotly_dash is for the \"make sure you don't have a dash.py\" check\u001b[39;00m\n\u001b[0;32m      3\u001b[0m \u001b[38;5;66;03m# must come before any other imports.\u001b[39;00m\n\u001b[0;32m      4\u001b[0m __plotly_dash \u001b[38;5;241m=\u001b[39m \u001b[38;5;28;01mTrue\u001b[39;00m\n\u001b[1;32m----> 5\u001b[0m \u001b[38;5;28;01mfrom\u001b[39;00m \u001b[38;5;21;01m.\u001b[39;00m\u001b[38;5;21;01mdash\u001b[39;00m \u001b[38;5;28;01mimport\u001b[39;00m Dash, no_update  \u001b[38;5;66;03m# noqa: F401,E402\u001b[39;00m\n\u001b[0;32m      6\u001b[0m \u001b[38;5;28;01mfrom\u001b[39;00m \u001b[38;5;21;01m.\u001b[39;00m \u001b[38;5;28;01mimport\u001b[39;00m dependencies  \u001b[38;5;66;03m# noqa: F401,E402\u001b[39;00m\n\u001b[0;32m      7\u001b[0m \u001b[38;5;28;01mfrom\u001b[39;00m \u001b[38;5;21;01m.\u001b[39;00m \u001b[38;5;28;01mimport\u001b[39;00m development  \u001b[38;5;66;03m# noqa: F401,E402\u001b[39;00m\n",
      "File \u001b[1;32mc:\\python\\python3_8_3\\lib\\site-packages\\dash\\dash.py:22\u001b[0m\n\u001b[0;32m     20\u001b[0m \u001b[38;5;28;01mimport\u001b[39;00m \u001b[38;5;21;01mflask\u001b[39;00m\n\u001b[0;32m     21\u001b[0m \u001b[38;5;28;01mfrom\u001b[39;00m \u001b[38;5;21;01mflask_compress\u001b[39;00m \u001b[38;5;28;01mimport\u001b[39;00m Compress\n\u001b[1;32m---> 22\u001b[0m \u001b[38;5;28;01mfrom\u001b[39;00m \u001b[38;5;21;01mwerkzeug\u001b[39;00m\u001b[38;5;21;01m.\u001b[39;00m\u001b[38;5;21;01mdebug\u001b[39;00m\u001b[38;5;21;01m.\u001b[39;00m\u001b[38;5;21;01mtbtools\u001b[39;00m \u001b[38;5;28;01mimport\u001b[39;00m get_current_traceback\n\u001b[0;32m     23\u001b[0m \u001b[38;5;28;01mfrom\u001b[39;00m \u001b[38;5;21;01mpkg_resources\u001b[39;00m \u001b[38;5;28;01mimport\u001b[39;00m get_distribution, parse_version\n\u001b[0;32m     25\u001b[0m \u001b[38;5;28;01mimport\u001b[39;00m \u001b[38;5;21;01mplotly\u001b[39;00m\n",
      "\u001b[1;31mImportError\u001b[0m: cannot import name 'get_current_traceback' from 'werkzeug.debug.tbtools' (c:\\python\\python3_8_3\\lib\\site-packages\\werkzeug\\debug\\tbtools.py)"
     ]
    }
   ],
   "source": [
    "import pandas as pd\n",
    "import dash\n",
    "import dash_html_components as html\n",
    "import dash_core_components as dcc\n",
    "from dash.dependencies import Input, Output\n",
    "from jupyter_dash import JupyterDash\n",
    "import plotly.graph_objects as go"
   ]
  },
  {
   "cell_type": "code",
   "execution_count": null,
   "metadata": {},
   "outputs": [],
   "source": [
    "# Solution found here:https://github.com/smaindola90/Python-Projects/blob/main/SpaceX%20Dashboard%20Application/SpaceX_Dashboard_Application.py\n",
    "''' In this project, I created a dashboard for Spacex launch cites data.\n",
    "The dashboard is created using plotly dash.'''\n",
    "\n",
    "# Importing required libraries\n",
    "import pandas as pd\n",
    "import dash\n",
    "import dash_html_components as html\n",
    "import dash_core_components as dcc\n",
    "from dash.dependencies import Input, Output\n",
    "import plotly.express as px\n",
    "\n",
    "# Reading the airline data into pandas dataframe\n",
    "spacex_df = pd.read_csv(\"spacex_launch_dash.csv\")\n",
    "max_payload = spacex_df['Payload Mass (kg)'].max()\n",
    "min_payload = spacex_df['Payload Mass (kg)'].min()\n",
    "\n",
    "# Creating a dash application\n",
    "app = dash.Dash(__name__)\n",
    "\n",
    "# Creating an app layout\n",
    "app.layout = html.Div(children=[html.H1('SpaceX Launch Records Dashboard',\n",
    "                                        style={'textAlign': 'center', 'color': '#503D36',\n",
    "                                               'font-size': 40}),\n",
    "                                # Adding a dropdown list to enable Launch Site selection\n",
    "                                # The default select value is for ALL sites\n",
    "                                dcc.Dropdown(id='site-dropdown',\n",
    "                                             options=[\n",
    "                                                {'label': 'All Sites', 'value': 'ALL'},\n",
    "                                                {'label': 'CCAFS LC-40', 'value': 'CCAFS LC-40'},\n",
    "                                                {'label': 'VAFB SLC-4E', 'value': 'VAFB SLC-4E'},\n",
    "                                                {'label': 'KSC LC-39A', 'value': 'KSC LC-39A'},\n",
    "                                                {'label': 'CCAFS SLC-40', 'value': 'CCAFS SLC-40'}\n",
    "                                                ],\n",
    "                                             value='ALL',\n",
    "                                             placeholder='Select a Launch Site',\n",
    "                                             searchable=True\n",
    "                                             ),\n",
    "                                html.Br(),\n",
    "\n",
    "                                # Adding a pie chart to show the total successful launches count for all sites\n",
    "                                # If a specific launch site was selected, showing the Success vs. Failed counts for the site\n",
    "                                html.Div(dcc.Graph(id='success-pie-chart')),\n",
    "                                html.Br(),\n",
    "\n",
    "                                html.P(\"Payload range (Kg):\"),\n",
    "                                # Adding a slider to select payload range\n",
    "                                dcc.RangeSlider(id='payload-slider',\n",
    "                                                min=0, max=10000, step=1000,\n",
    "                                                marks={0:'0', 1000:'1000', 2000:'2000', 3000:'3000', 4000:'4000', 5000:'5000', 6000:'6000', 7000:'7000', 8000:'8000', 9000:'9000', 10000:'10000'},\n",
    "                                                value=[min_payload, max_payload]),\n",
    "\n",
    "                                # Adding a scatter chart to show the correlation between payload and launch success\n",
    "                                html.Div(dcc.Graph(id='success-payload-scatter-chart')),\n",
    "                                ])\n",
    "\n",
    "# Adding a callback function for 'site-dropdown' as input, 'success-pie-chart' as output\n",
    "@app.callback(Output('success-pie-chart', 'figure'),\n",
    "              Input('site-dropdown', 'value'))\n",
    "\n",
    "def get_pie_chart(entered_site):\n",
    "    if entered_site == 'ALL':\n",
    "        filtered_df = spacex_df[['Launch Site', 'class']].groupby(['Launch Site'], as_index=False).sum()\n",
    "        filtered_df.rename(columns={'class':'Successes'}, inplace=True)\n",
    "        fig = px.pie(filtered_df, values='Successes', \n",
    "        names='Launch Site', \n",
    "        title='Total Success Launches by Site')\n",
    "        return fig\n",
    "    else:\n",
    "        # return the outcomes piechart for a selected site\n",
    "        filtered_df = spacex_df[spacex_df['Launch Site']==entered_site].groupby(['class'], as_index=False).count()\n",
    "        col = ['Failure', 'Success']\n",
    "        filtered_df['Outcome']=col\n",
    "        filtered_df.rename(columns={'Launch Site':'Count'}, inplace=True)\n",
    "        \n",
    "        fig = px.pie(filtered_df, values='Count', names='Outcome', title=f\"Total Success Launches for site {entered_site}\", color='Outcome', color_discrete_map={'Failure':'tomato', 'Success':'royalblue'})\n",
    "        return fig\n",
    "\n",
    "# Adding a callback function for 'site-dropdown' and 'payload-slider' as inputs, 'success-payload-scatter-chart' as output\n",
    "@app.callback(Output('success-payload-scatter-chart', 'figure'),\n",
    "              [Input('site-dropdown', 'value'), Input('payload-slider', 'value')])\n",
    "\n",
    "def get_scatter_chart(entered_site, slider_value):\n",
    "    low, high = slider_value\n",
    "    filtered_df = spacex_df[spacex_df['Payload Mass (kg)'].between(low, high, inclusive='both')]\n",
    "    if entered_site == 'ALL':\n",
    "        fig = px.scatter(filtered_df, x='Payload Mass (kg)', y='class', color='Booster Version Category', title='Correlation between Payload and Success for all Sites')\n",
    "        return fig\n",
    "    else:\n",
    "        filtered_df = filtered_df[filtered_df['Launch Site']==entered_site]\n",
    "        fig = px.scatter(filtered_df, x='Payload Mass (kg)', y='class', color = 'Booster Version Category', title=f\"Correlation between Payload and Success for {entered_site} Launch Site\")\n",
    "        return fig\n",
    "\n",
    "# Running the app\n",
    "if __name__ == '__main__':\n",
    "    app.run_server()"
   ]
  },
  {
   "cell_type": "markdown",
   "metadata": {},
   "source": [
    "# Questions\n",
    "\n",
    "Which site has the largest successful launches?\n",
    "    - KSC LC-39A\n",
    "Which site has the highest launch success rate?\n",
    "    - KSC LC-39A\n",
    "Which payload range(s) has the highest launch success rate?\n",
    "    - 2k-4k Kg\n",
    "Which payload range(s) has the lowest launch success rate?\n",
    "Which F9 Booster version (v1.0, v1.1, FT, B4, B5, etc.) has the highest\n",
    "launch success rate?"
   ]
  }
 ],
 "metadata": {
  "kernelspec": {
   "display_name": "Python 3 (ipykernel)",
   "language": "python",
   "name": "python3"
  }
 },
 "nbformat": 4,
 "nbformat_minor": 2
}
